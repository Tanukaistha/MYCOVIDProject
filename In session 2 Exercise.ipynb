{
 "cells": [
  {
   "cell_type": "code",
   "execution_count": 1,
   "metadata": {},
   "outputs": [
    {
     "name": "stdout",
     "output_type": "stream",
     "text": [
      "the district is Mumbai\n",
      "the infected persons 136596\n",
      "the recovered persons67890\n",
      "the death persons5732\n",
      "the infection fatality rate      11.98639218422889\n",
      "the cmr of  persons     0.04196316143957363\n"
     ]
    }
   ],
   "source": [
    "district=\"Mumbai\"\n",
    "infected_till_date=136596\n",
    "recovered_till_date=67890\n",
    "death_till_date=5732\n",
    "ifr=(infected_till_date-recovered_till_date)/death_till_date\n",
    "cmr=(death_till_date/infected_till_date)\n",
    "print(\"the district is {}\".format(district))\n",
    "print(\"the infected persons {}\".format(infected_till_date))\n",
    "print(\"the recovered persons{}\".format(recovered_till_date))\n",
    "print(\"the death persons{}\".format(death_till_date))\n",
    "print(\"the infection fatality rate      {}\".format(ifr))\n",
    "print(\"the cmr of  persons     {}\".format(cmr))"
   ]
  },
  {
   "cell_type": "code",
   "execution_count": null,
   "metadata": {},
   "outputs": [],
   "source": []
  }
 ],
 "metadata": {
  "kernelspec": {
   "display_name": "Python 3",
   "language": "python",
   "name": "python3"
  },
  "language_info": {
   "codemirror_mode": {
    "name": "ipython",
    "version": 3
   },
   "file_extension": ".py",
   "mimetype": "text/x-python",
   "name": "python",
   "nbconvert_exporter": "python",
   "pygments_lexer": "ipython3",
   "version": "3.7.6"
  }
 },
 "nbformat": 4,
 "nbformat_minor": 4
}
