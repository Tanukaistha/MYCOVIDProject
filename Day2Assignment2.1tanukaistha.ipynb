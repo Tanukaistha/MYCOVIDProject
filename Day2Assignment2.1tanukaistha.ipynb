{
 "cells": [
  {
   "cell_type": "markdown",
   "metadata": {},
   "source": [
    "# List1 and List2-Name of 5 states"
   ]
  },
  {
   "cell_type": "code",
   "execution_count": 10,
   "metadata": {},
   "outputs": [
    {
     "name": "stdout",
     "output_type": "stream",
     "text": [
      "['Chandigarh', 'Delhi', 'HimachalPradesh', 'Karnatka', 'Punjab']\n"
     ]
    }
   ],
   "source": [
    "# list1 = [\"Chandigarh\",\"Delhi\",\"HimachalPradesh\",\"Karnatka\",\"Punjab\"]\n",
    "print(list1)"
   ]
  },
  {
   "cell_type": "code",
   "execution_count": 11,
   "metadata": {},
   "outputs": [
    {
     "data": {
      "text/plain": [
       "list"
      ]
     },
     "execution_count": 11,
     "metadata": {},
     "output_type": "execute_result"
    }
   ],
   "source": [
    "type(list1)"
   ]
  },
  {
   "cell_type": "code",
   "execution_count": 2,
   "metadata": {},
   "outputs": [
    {
     "name": "stdout",
     "output_type": "stream",
     "text": [
      "States\n",
      "Chandigarh\n",
      "Delhi\n",
      "HimachalPradesh\n",
      "Karnatka\n",
      "Punjab\n"
     ]
    }
   ],
   "source": [
    "print(\"States\")\n",
    "for state in list1:\n",
    "    print(state)"
   ]
  },
  {
   "cell_type": "code",
   "execution_count": 3,
   "metadata": {},
   "outputs": [
    {
     "name": "stdout",
     "output_type": "stream",
     "text": [
      "States with infected number of people\n",
      "Chandigarh - 450\n",
      "Delhi - 92175\n",
      "HimachalPradesh - 1014\n",
      "Karnatka - 18016\n",
      "Punjab - 5784\n"
     ]
    }
   ],
   "source": [
    "list2=[450,92175,1014,18016,5784] # infected numbers of people in the states of 'list1'\n",
    "print(\"States with infected number of people\")\n",
    "for i in range(len(list1)):\n",
    "    print(list1[i]+\" - \"+str(list2[i]))"
   ]
  },
  {
   "cell_type": "code",
   "execution_count": 12,
   "metadata": {},
   "outputs": [
    {
     "data": {
      "text/plain": [
       "list"
      ]
     },
     "execution_count": 12,
     "metadata": {},
     "output_type": "execute_result"
    }
   ],
   "source": [
    "type(list2)"
   ]
  },
  {
   "cell_type": "code",
   "execution_count": 4,
   "metadata": {},
   "outputs": [
    {
     "name": "stdout",
     "output_type": "stream",
     "text": [
      "States with infected number of people\n"
     ]
    },
    {
     "data": {
      "text/plain": [
       "{'Chandigarh': 450,\n",
       " 'Delhi': 92175,\n",
       " 'HimachalPradesh': 1014,\n",
       " 'Karnatka': 18016,\n",
       " 'Punjab': 5784}"
      ]
     },
     "execution_count": 4,
     "metadata": {},
     "output_type": "execute_result"
    }
   ],
   "source": [
    "print(\"States with infected number of people\")\n",
    "dict(zip(list1,list2))\n",
    "# infected person in dictionary form"
   ]
  },
  {
   "cell_type": "markdown",
   "metadata": {},
   "source": [
    "Tuples"
   ]
  },
  {
   "cell_type": "code",
   "execution_count": 9,
   "metadata": {},
   "outputs": [
    {
     "data": {
      "text/plain": [
       "{'Chandigarh': 389,\n",
       " 'Delhi': 63007,\n",
       " 'HimachalPradesh': 628,\n",
       " 'Karnatka': 8334,\n",
       " 'Punjab': 4144}"
      ]
     },
     "execution_count": 9,
     "metadata": {},
     "output_type": "execute_result"
    }
   ],
   "source": [
    "#number of infected people that has been recovered with their respective states\n",
    "t=(389,63007,628,8334,4144)\n",
    "dict(zip(list1,t))"
   ]
  },
  {
   "cell_type": "code",
   "execution_count": 13,
   "metadata": {},
   "outputs": [
    {
     "name": "stdout",
     "output_type": "stream",
     "text": [
      "{'Chandigarh': 389, 'Delhi': 63007, 'Himachal Pradesh': 628, 'Karnatka': 8334, 'Punjab': 4144}\n"
     ]
    }
   ],
   "source": [
    "#number of infected people that has been recovered with their respective states\n",
    "tup=[(\"Chandigarh\",389),(\"Delhi\",63007),(\"Himachal Pradesh\",628),(\"Karnatka\",8334),(\"Punjab\",4144)]\n",
    "print(dict(tup))"
   ]
  },
  {
   "cell_type": "code",
   "execution_count": 14,
   "metadata": {},
   "outputs": [
    {
     "name": "stdout",
     "output_type": "stream",
     "text": [
      "State-wise total recovered cases\n",
      "Chandigarh  -  389\n",
      "Delhi  -  63007\n",
      "Himachal Pradesh  -  628\n",
      "Karnatka  -  8334\n",
      "Punjab  -  4144\n"
     ]
    }
   ],
   "source": [
    "print(\"State-wise total recovered cases\")\n",
    "for (t1,t2) in tup:\n",
    "    print(t1,\" - \",t2)"
   ]
  },
  {
   "cell_type": "markdown",
   "metadata": {},
   "source": [
    "# dictionary"
   ]
  },
  {
   "cell_type": "code",
   "execution_count": 15,
   "metadata": {},
   "outputs": [],
   "source": [
    "dict={\"Chandigarh\":450,\"Delhi\":92175,\"Himachal Pradesh\":1014,\"Karnatka\":18016,\"Punjab\":5784}"
   ]
  },
  {
   "cell_type": "code",
   "execution_count": 16,
   "metadata": {},
   "outputs": [
    {
     "data": {
      "text/plain": [
       "dict_keys(['Chandigarh', 'Delhi', 'Himachal Pradesh', 'Karnatka', 'Punjab'])"
      ]
     },
     "execution_count": 16,
     "metadata": {},
     "output_type": "execute_result"
    }
   ],
   "source": [
    "dict.keys()"
   ]
  },
  {
   "cell_type": "code",
   "execution_count": 17,
   "metadata": {},
   "outputs": [
    {
     "data": {
      "text/plain": [
       "dict_values([450, 92175, 1014, 18016, 5784])"
      ]
     },
     "execution_count": 17,
     "metadata": {},
     "output_type": "execute_result"
    }
   ],
   "source": [
    "dict.values()"
   ]
  },
  {
   "cell_type": "code",
   "execution_count": 18,
   "metadata": {},
   "outputs": [
    {
     "name": "stdout",
     "output_type": "stream",
     "text": [
      "State-wise total infected cases\n",
      "Chandigarh  -  450\n",
      "Delhi  -  92175\n",
      "Himachal Pradesh  -  1014\n",
      "Karnatka  -  18016\n",
      "Punjab  -  5784\n"
     ]
    }
   ],
   "source": [
    "print(\"State-wise total infected cases\")\n",
    "for k,v in dict.items():\n",
    "    print(k,\" - \",v)"
   ]
  },
  {
   "cell_type": "code",
   "execution_count": null,
   "metadata": {},
   "outputs": [],
   "source": []
  }
 ],
 "metadata": {
  "kernelspec": {
   "display_name": "Python 3",
   "language": "python",
   "name": "python3"
  },
  "language_info": {
   "codemirror_mode": {
    "name": "ipython",
    "version": 3
   },
   "file_extension": ".py",
   "mimetype": "text/x-python",
   "name": "python",
   "nbconvert_exporter": "python",
   "pygments_lexer": "ipython3",
   "version": "3.7.6"
  }
 },
 "nbformat": 4,
 "nbformat_minor": 4
}
